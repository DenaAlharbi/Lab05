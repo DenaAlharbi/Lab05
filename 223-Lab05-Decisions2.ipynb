{
 "cells": [
  {
   "attachments": {},
   "cell_type": "markdown",
   "metadata": {
    "slideshow": {
     "slide_type": "slide"
    }
   },
   "source": [
    "# ICS 104 - Introduction to Programming in Python and C\n",
    "## 223-Lab05-Decision Structures 2"
   ]
  },
  {
   "attachments": {},
   "cell_type": "markdown",
   "metadata": {
    "slideshow": {
     "slide_type": "fragment"
    }
   },
   "source": [
    "# Lab Learning Outcomes\n",
    "- To learn how to program simple and complex decisions. \n",
    "- To implement decisions using if statements\n",
    "- To write statements using Boolean expressions\n",
    "- To validate user input"
   ]
  },
  {
   "attachments": {},
   "cell_type": "markdown",
   "metadata": {
    "slideshow": {
     "slide_type": "slide"
    }
   },
   "source": [
    "# Exercises"
   ]
  },
  {
   "cell_type": "raw",
   "metadata": {},
   "source": []
  },
  {
   "attachments": {},
   "cell_type": "markdown",
   "metadata": {
    "cell_style": "center",
    "slideshow": {
     "slide_type": "slide"
    }
   },
   "source": [
    "### Exercise 1\n",
    "A year with 366 days is called a leap year. Leap years are necessary to keep the calendar\n",
    "synchronized with the sun because the earth revolves around the sun once\n",
    "every 365.25 days. Actually, that figure is not entirely precise, and for all dates after\n",
    "1582 the Gregorian correction applies. Usually years that are divisible by 4 are leap\n",
    "years (for example, 1996). However, years that are divisible by 100 (for example,\n",
    "1900) are not leap years, but years that are divisible by 400 are leap years (for example,\n",
    "2000). Write a program that asks the user for a year and computes whether that\n",
    "year is a leap year. Use a single if statement and Boolean operators."
   ]
  },
  {
   "cell_type": "code",
   "execution_count": 7,
   "metadata": {
    "nbgrader": {
     "grade": false,
     "grade_id": "cell-831668a818326720",
     "locked": false,
     "schema_version": 1,
     "solution": true
    },
    "slideshow": {
     "slide_type": "fragment"
    }
   },
   "outputs": [
    {
     "name": "stdout",
     "output_type": "stream",
     "text": [
      "Not a leap year\n"
     ]
    }
   ],
   "source": [
    "# Exercise # 1 - Source Code\n",
    "year = int(input(\"Enter year: \"))\n",
    "if (year%4==0 and year%100!=0) or year%400==0:\n",
    "    print(\"A leap year\")\n",
    "else:\n",
    "   \n",
    "    print(\"Not a leap year\")"
   ]
  },
  {
   "attachments": {},
   "cell_type": "markdown",
   "metadata": {
    "slideshow": {
     "slide_type": "slide"
    }
   },
   "source": [
    "### Exercise 2\n",
    "When two points in time are compared, each given as hours (in military time, ranging\n",
    "from 0 to 23) and minutes, the following pseudocode determines which comes first.\n",
    "\n",
    "If hour1 < hour2\n",
    "\n",
    ">time1 comes first.\n",
    "\n",
    "Else if hour1 and hour2 are the same\n",
    "\n",
    ">If minute1 < minute2\n",
    "\n",
    ">>time1 comes first.\n",
    "\n",
    ">Else if minute1 and minute2 are the same\n",
    "\n",
    ">>time1 and time2 are the same.\n",
    "\n",
    ">Else\n",
    "\n",
    ">>time2 comes first.\n",
    "\n",
    "Else\n",
    "\n",
    ">time2 comes first.\n",
    "\n",
    "Write a program that prompts the user for two points in time and prints the time that\n",
    "comes first, then the other time."
   ]
  },
  {
   "cell_type": "code",
   "execution_count": 1,
   "metadata": {
    "nbgrader": {
     "grade": false,
     "grade_id": "cell-49086fa4c5681df1",
     "locked": false,
     "schema_version": 1,
     "solution": true
    },
    "slideshow": {
     "slide_type": "fragment"
    }
   },
   "outputs": [
    {
     "name": "stdout",
     "output_type": "stream",
     "text": [
      "time2 comes first.\n"
     ]
    }
   ],
   "source": [
    "# Exercise # 2 - Source Code\n",
    "\n",
    "#Inputs given by the user.\n",
    "firstTime = input(\"Please enter the first time: \")\n",
    "secondTime = input(\"Please enter the second time: \")\n",
    "\n",
    "#Variables to use in calculations.\n",
    "hour2 = int(secondTime[:2])\n",
    "hour1 = int(firstTime[:2])\n",
    "minute2 = int(secondTime[2:]) \n",
    "minute1 = int(firstTime[2:])\n",
    "if hour1 < hour2:\n",
    "\n",
    "    print(\"time1 comes first.\")\n",
    "\n",
    "elif hour1 ==hour2:\n",
    "\n",
    "    if minute1 < minute2:\n",
    "\n",
    "        print(\"time1 comes first.\")\n",
    "\n",
    "    elif minute1 == minute2:\n",
    "\n",
    "        print(\"time1 and time2 are the same.\")\n",
    "    else:\n",
    "        print(\"time2 comes first.\")\n",
    "else:\n",
    "    print(\"time2 comes first.\")"
   ]
  },
  {
   "attachments": {},
   "cell_type": "markdown",
   "metadata": {
    "cell_style": "center",
    "slideshow": {
     "slide_type": "slide"
    }
   },
   "source": [
    "### Exercise 3\n",
    "Write a program that prompts the user to enter\n",
    "the month and year and displays the number of days in the month. For example, if\n",
    "the user entered month 2 and year 2012, the program should display that February\n",
    "2012 has 29 days. If the user entered month 3 and year 2015, the program should\n",
    "display that March 2015 has 31 days."
   ]
  },
  {
   "cell_type": "code",
   "execution_count": 2,
   "metadata": {
    "nbgrader": {
     "grade": false,
     "grade_id": "cell-923fd2d90ef69ff6",
     "locked": false,
     "schema_version": 1,
     "solution": true
    },
    "slideshow": {
     "slide_type": "fragment"
    }
   },
   "outputs": [
    {
     "name": "stdout",
     "output_type": "stream",
     "text": [
      "6/2017 has 30 days.\n",
      "yyyy\n"
     ]
    }
   ],
   "source": [
    "# Exercise # 3 - Source Code\n",
    "\n",
    "#The inputs\n",
    "month = int(input(\"Enter month (1-12): \"))\n",
    "year = int(input(\"Enter year: \"))\n",
    "\n",
    "if month in [1,3,5,7,8,10,12]:\n",
    "    days = 31\n",
    "elif month ==2:\n",
    "    if year%4==0:\n",
    "        if year%100==0:\n",
    "            if year%400==0:\n",
    "                #it has 366 days Leap\n",
    "                days=29\n",
    "            else:\n",
    "                #not a leap year and has 365 days\n",
    "                days=28\n",
    "        else:\n",
    "            #it has 366 days Leap\n",
    "            days=29\n",
    "    else:\n",
    "        #not a leap year and has 365 days\n",
    "        days=28\n",
    "\n",
    "elif month in [4, 6, 9, 11]:\n",
    "    days = 30\n",
    "else:\n",
    "    days = 31\n",
    "\n",
    "print(\"%d/%d has %d days.\"%(month,year,days))\n",
    "\n",
    "\n",
    "\n"
   ]
  }
 ],
 "metadata": {
  "celltoolbar": "Slideshow",
  "kernelspec": {
   "display_name": "Python 3 (ipykernel)",
   "language": "python",
   "name": "python3"
  },
  "language_info": {
   "codemirror_mode": {
    "name": "ipython",
    "version": 3
   },
   "file_extension": ".py",
   "mimetype": "text/x-python",
   "name": "python",
   "nbconvert_exporter": "python",
   "pygments_lexer": "ipython3",
   "version": "3.11.4"
  },
  "rise": {
   "theme": "yellow"
  },
  "toc": {
   "base_numbering": 1,
   "nav_menu": {},
   "number_sections": true,
   "sideBar": true,
   "skip_h1_title": false,
   "title_cell": "Table of Contents",
   "title_sidebar": "Contents",
   "toc_cell": false,
   "toc_position": {
    "height": "131px",
    "left": "781px",
    "top": "290px",
    "width": "221px"
   },
   "toc_section_display": true,
   "toc_window_display": false
  },
  "varInspector": {
   "cols": {
    "lenName": 16,
    "lenType": 16,
    "lenVar": 40
   },
   "kernels_config": {
    "python": {
     "delete_cmd_postfix": "",
     "delete_cmd_prefix": "del ",
     "library": "var_list.py",
     "varRefreshCmd": "print(var_dic_list())"
    },
    "r": {
     "delete_cmd_postfix": ") ",
     "delete_cmd_prefix": "rm(",
     "library": "var_list.r",
     "varRefreshCmd": "cat(var_dic_list()) "
    }
   },
   "types_to_exclude": [
    "module",
    "function",
    "builtin_function_or_method",
    "instance",
    "_Feature"
   ],
   "window_display": false
  }
 },
 "nbformat": 4,
 "nbformat_minor": 4
}
